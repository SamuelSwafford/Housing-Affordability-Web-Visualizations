{
 "cells": [
  {
   "cell_type": "code",
   "execution_count": 1,
   "metadata": {},
   "outputs": [],
   "source": [
    "import pandas as pd\n",
    "import matplotlib.pyplot as plt\n",
    "import numpy as np"
   ]
  },
  {
   "cell_type": "code",
   "execution_count": 2,
   "metadata": {},
   "outputs": [
    {
     "ename": "ValueError",
     "evalue": "could not convert string to float: ''",
     "output_type": "error",
     "traceback": [
      "\u001b[0;31m---------------------------------------------------------------------------\u001b[0m",
      "\u001b[0;31mValueError\u001b[0m                                Traceback (most recent call last)",
      "Cell \u001b[0;32mIn[2], line 48\u001b[0m\n\u001b[1;32m     45\u001b[0m     \u001b[38;5;28;01mreturn\u001b[39;00m hai_individual\n\u001b[1;32m     47\u001b[0m \u001b[38;5;66;03m# Input details from the user\u001b[39;00m\n\u001b[0;32m---> 48\u001b[0m home_price \u001b[38;5;241m=\u001b[39m \u001b[38;5;28mfloat\u001b[39m(\u001b[38;5;28minput\u001b[39m(\u001b[38;5;124m\"\u001b[39m\u001b[38;5;124mEnter the total cost of the home: \u001b[39m\u001b[38;5;124m\"\u001b[39m))\n\u001b[1;32m     49\u001b[0m down_payment_percent \u001b[38;5;241m=\u001b[39m \u001b[38;5;28mfloat\u001b[39m(\u001b[38;5;28minput\u001b[39m(\u001b[38;5;124m\"\u001b[39m\u001b[38;5;124mEnter the down payment percentage (e.g., 20 for 20\u001b[39m\u001b[38;5;124m%\u001b[39m\u001b[38;5;124m): \u001b[39m\u001b[38;5;124m\"\u001b[39m)) \u001b[38;5;241m/\u001b[39m \u001b[38;5;241m100\u001b[39m\n\u001b[1;32m     50\u001b[0m loan_term_years \u001b[38;5;241m=\u001b[39m \u001b[38;5;28mint\u001b[39m(\u001b[38;5;28minput\u001b[39m(\u001b[38;5;124m\"\u001b[39m\u001b[38;5;124mEnter the loan term in years: \u001b[39m\u001b[38;5;124m\"\u001b[39m))\n",
      "\u001b[0;31mValueError\u001b[0m: could not convert string to float: ''"
     ]
    }
   ],
   "source": [
    "def calculate_qualifying_income(home_price, down_payment_percent, loan_term_years, interest_rate, property_tax_rate, homeowners_insurance_rate, other_debts):\n",
    "    \"\"\"\n",
    "    Calculate the qualifying income needed for a mortgage.\n",
    "\n",
    "    Parameters:\n",
    "    - home_price: Total cost of the home\n",
    "    - down_payment_percent: Down payment as a percentage of the home price\n",
    "    - loan_term_years: Loan term in years\n",
    "    - interest_rate: Annual interest rate on the mortgage\n",
    "    - property_tax_rate: Annual property tax rate as a percentage of the home price\n",
    "    - homeowners_insurance_rate: Annual homeowners insurance rate as a percentage of the home price\n",
    "    - other_debts: Other monthly debt obligations (e.g., car loans, credit card payments)\n",
    "\n",
    "    Returns:\n",
    "    - qualifying_income: Income needed to qualify for the mortgage\n",
    "    \"\"\"\n",
    "    loan_amount = home_price * (1 - down_payment_percent)\n",
    "    monthly_interest_rate = interest_rate / 12 / 100\n",
    "    monthly_property_tax = home_price * property_tax_rate / 12 / 100\n",
    "    monthly_homeowners_insurance = home_price * homeowners_insurance_rate / 12 / 100\n",
    "\n",
    "    # Calculate the monthly mortgage payment using the formula for a fixed-rate mortgage\n",
    "    monthly_payment = (loan_amount * monthly_interest_rate) / (1 - (1 + monthly_interest_rate) ** (-loan_term_years * 12))\n",
    "    \n",
    "    # Add property taxes, homeowners insurance, and other debts to get the total monthly payment\n",
    "    total_monthly_payment = monthly_payment + monthly_property_tax + monthly_homeowners_insurance + other_debts\n",
    "    \n",
    "    # Calculate the qualifying income needed based on the total monthly payment\n",
    "    qualifying_income = total_monthly_payment * 12\n",
    "    \n",
    "    return qualifying_income\n",
    "\n",
    "def calculate_hai_individual(household_income, qualifying_income_needed):\n",
    "    \"\"\"\n",
    "    Calculate Housing Affordability Index for an individual household.\n",
    "\n",
    "    Parameters:\n",
    "    - household_income: Total income of the household\n",
    "    - qualifying_income_needed: Income required for the household to qualify for a mortgage\n",
    "\n",
    "    Returns:\n",
    "    - hai_individual: Housing Affordability Index for the individual household\n",
    "    \"\"\"\n",
    "    hai_individual = (household_income / qualifying_income_needed) * 100\n",
    "    return hai_individual\n",
    "\n",
    "# Input details from the user\n",
    "home_price = float(input(\"Enter the total cost of the home: \"))\n",
    "down_payment_percent = float(input(\"Enter the down payment percentage (e.g., 20 for 20%): \")) / 100\n",
    "loan_term_years = int(input(\"Enter the loan term in years: \"))\n",
    "interest_rate = float(input(\"Enter the annual interest rate on the mortgage: \"))\n",
    "property_tax_rate = float(input(\"Enter the annual property tax rate as a percentage of the home price: \"))\n",
    "homeowners_insurance_rate = float(input(\"Enter the annual homeowners insurance rate as a percentage of the home price: \"))\n",
    "other_debts = float(input(\"Enter other monthly debt obligations (e.g., car loans, credit card payments): \"))\n",
    "household_income = float(input(\"Enter the total income of the household: \"))\n",
    "\n",
    "# Calculate Qualifying Income\n",
    "qualifying_income = calculate_qualifying_income(home_price, down_payment_percent, loan_term_years, interest_rate, property_tax_rate, homeowners_insurance_rate, other_debts)\n",
    "\n",
    "# Calculate HAI\n",
    "hai_individual = calculate_hai_individual(household_income, qualifying_income)\n",
    "\n",
    "# Display results\n",
    "print(\"\\nResults:\")\n",
    "print(f\"Qualifying Income Needed for the mortgage: {qualifying_income:.2f}\")\n",
    "print(f\"Housing Affordability Index for the individual household: {hai_individual:.2f}\")"
   ]
  }
 ],
 "metadata": {
  "kernelspec": {
   "display_name": "dev",
   "language": "python",
   "name": "python3"
  },
  "language_info": {
   "codemirror_mode": {
    "name": "ipython",
    "version": 3
   },
   "file_extension": ".py",
   "mimetype": "text/x-python",
   "name": "python",
   "nbconvert_exporter": "python",
   "pygments_lexer": "ipython3",
   "version": "3.11.5"
  }
 },
 "nbformat": 4,
 "nbformat_minor": 2
}
