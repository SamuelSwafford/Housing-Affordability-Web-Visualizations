{
 "cells": [
  {
   "cell_type": "markdown",
   "metadata": {},
   "source": []
  },
  {
   "cell_type": "code",
   "execution_count": 19,
   "metadata": {},
   "outputs": [],
   "source": [
    "import pandas as pd\n",
    "import numpy as np\n",
    "import matplotlib.pyplot as plt\n"
   ]
  },
  {
   "cell_type": "code",
   "execution_count": 20,
   "metadata": {},
   "outputs": [
    {
     "name": "stdout",
     "output_type": "stream",
     "text": [
      "['MedianSalePrice', 'MedianListPrice', 'SalesTotal', 'Total Population', 'Median Income', 'MORTGAGE30US', 'Unemployment Rate', 'HAI']\n",
      "None\n"
     ]
    }
   ],
   "source": [
    "df = pd.read_csv('resources/data_interpolated.csv')\n",
    "allowed_columns = df.select_dtypes(include='number').columns.tolist()\n",
    "allowed_columns.remove('Year')\n",
    "allowed_columns = set(allowed_columns)\n",
    "print(print(allowed_columns))"
   ]
  },
  {
   "cell_type": "code",
   "execution_count": 25,
   "metadata": {},
   "outputs": [
    {
     "name": "stderr",
     "output_type": "stream",
     "text": [
      "/var/folders/yk/gblyv4gs4s5fjfks1jm4lkhw0000gp/T/ipykernel_41351/1909678665.py:49: UserWarning: FigureCanvasAgg is non-interactive, and thus cannot be shown\n",
      "  plt.show()\n"
     ]
    }
   ],
   "source": [
    "import pandas as pd\n",
    "import matplotlib\n",
    "# Ensure matplotlib does not use any Xwindows backend.\n",
    "matplotlib.use('Agg')\n",
    "import matplotlib.pyplot as plt\n",
    "\n",
    "def plot_bar_and_line( city = 'United States', col='MORTGAGE30US'):  # Renamed function\n",
    "    df = pd.read_csv('resources/data_interpolated.csv')\n",
    "    allowed_columns = df.select_dtypes(include='number').columns.tolist()\n",
    "    allowed_columns.remove('Year')\n",
    "    allowed_columns = set(allowed_columns)\n",
    "    if col not in allowed_columns:\n",
    "        raise ValueError(f'Invalid value for col. Allowed values are {allowed_columns}')\n",
    "    df = df[df['CityName'] == city]\n",
    "    df = df[['Date', 'SalesTotal', col]]\n",
    "    df[col] = df[col].bfill()\n",
    "    df.dropna(subset=['SalesTotal'], inplace=True)\n",
    "\n",
    "    # Convert 'Date' to datetime and set it as index\n",
    "    df['Date'] = pd.to_datetime(df['Date'])\n",
    "    df.set_index('Date', inplace=True)\n",
    "\n",
    "    # Calculate yearly sum of 'SalesTotal' and yearly average of 'MORTGAGE30US'\n",
    "    df = df.resample('Y').agg({'SalesTotal': 'sum', col: 'mean'})\n",
    "\n",
    "    # Plot the data\n",
    "    fig, ax1 = plt.subplots()\n",
    "    ax2 = ax1.twinx()\n",
    "\n",
    "    # Bar plot\n",
    "    bar = ax2.bar(df.index.year, df['SalesTotal'], color='blue', zorder=0, alpha=.5)\n",
    "\n",
    "    # Line plot\n",
    "    line, = ax1.plot(df.index.year, df[col], color='red', zorder=1)\n",
    "\n",
    "    # Set labels and title\n",
    "    ax1.set_xlabel('Time')\n",
    "    ax1.set_ylabel(col)\n",
    "    ax2.set_ylabel('Sales Total')\n",
    "    plt.title('Mortgage Rate and Sales Total Over Time for ' + city)\n",
    "\n",
    "    # Add legends\n",
    "    plt.legend([line, bar], [col, 'Sales Total'])\n",
    "\n",
    "    # Move the line plot to the front\n",
    "    ax1.set_zorder(ax2.get_zorder() + 1)\n",
    "    ax1.patch.set_visible(False)\n",
    "    plt.savefig('static/bar_and_line_plot.svg')\n",
    "    plt.show()\n",
    "\n",
    "    plt.close()\n",
    "if __name__ == '__main__':\n",
    "    # Example usage\n",
    "    city = 'United States'\n",
    "    col = list(allowed_columns)[0]\n",
    "    plot_bar_and_line(city, col)"
   ]
  },
  {
   "cell_type": "code",
   "execution_count": null,
   "metadata": {},
   "outputs": [],
   "source": []
  },
  {
   "cell_type": "code",
   "execution_count": 22,
   "metadata": {},
   "outputs": [],
   "source": [
    "import pandas as pd\n",
    "import matplotlib\n",
    "# Ensure matplotlib does not use any Xwindows backend.\n",
    "matplotlib.use('Agg')\n",
    "import matplotlib.pyplot as plt\n",
    "\n",
    "def plot_bar_and_line( city = 'United States', col='MORTGAGE30US'):  # Renamed function\n",
    "    df = pd.read_csv('resources/data_interpolated.csv')\n",
    "    df = df[df['CityName'] == city]\n",
    "    df = df[['Date', 'SalesTotal', col]]\n",
    "    df[col] = df[col].bfill()\n",
    "    df.dropna(subset=['SalesTotal'], inplace=True)\n",
    "\n",
    "    # Convert 'Date' to datetime and set it as index\n",
    "    df['Date'] = pd.to_datetime(df['Date'])\n",
    "    df.set_index('Date', inplace=True)\n",
    "\n",
    "    # Calculate yearly sum of 'SalesTotal' and yearly average of 'MORTGAGE30US'\n",
    "    df = df.resample('Y').agg({'SalesTotal': 'sum', 'MORTGAGE30US': 'mean'})\n",
    "\n",
    "    # Plot the data\n",
    "    fig, ax1 = plt.subplots()\n",
    "    ax2 = ax1.twinx()\n",
    "\n",
    "    # Bar plot\n",
    "    bar = ax2.bar(df.index.year, df['SalesTotal'], color='blue', zorder=0, alpha=.5)\n",
    "\n",
    "    # Line plot\n",
    "    line, = ax1.plot(df.index.year, df['MORTGAGE30US'], color='red', zorder=1)\n",
    "\n",
    "    # Set labels and title\n",
    "    ax1.set_xlabel('Time')\n",
    "    ax1.set_ylabel('MORTGAGE30US')\n",
    "    ax2.set_ylabel('Sales Total')\n",
    "    plt.title('Mortgage Rate and Sales Total Over Time for ' + city)\n",
    "\n",
    "    # Add legends\n",
    "    plt.legend([line, bar], ['MORTGAGE30US', 'Sales Total'])\n",
    "\n",
    "    # Move the line plot to the front\n",
    "    ax1.set_zorder(ax2.get_zorder() + 1)\n",
    "    ax1.patch.set_visible(False)\n",
    "    plt.savefig('static/bar_and_line_plot.svg')\n",
    "\n",
    "    plt.close()\n",
    "if __name__ == '__main__':\n",
    "    # Example usage\n",
    "    city = 'United States'\n",
    "    # column1 = 'SalesTotal'\n",
    "    # column2 = 'MORTGAGE30US'\n",
    "    plot_bar_and_line(city)"
   ]
  }
 ],
 "metadata": {
  "kernelspec": {
   "display_name": "base",
   "language": "python",
   "name": "python3"
  },
  "language_info": {
   "codemirror_mode": {
    "name": "ipython",
    "version": 3
   },
   "file_extension": ".py",
   "mimetype": "text/x-python",
   "name": "python",
   "nbconvert_exporter": "python",
   "pygments_lexer": "ipython3",
   "version": "3.11.5"
  }
 },
 "nbformat": 4,
 "nbformat_minor": 2
}
