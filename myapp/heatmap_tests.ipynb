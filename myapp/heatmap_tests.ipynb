{
 "cells": [
  {
   "cell_type": "code",
   "execution_count": null,
   "metadata": {},
   "outputs": [],
   "source": [
    "import pandas as pd\n",
    "import geopandas as gpd\n",
    "import matplotlib\n",
    "# Ensure matplotlib does not use any Xwindows backend.\n",
    "matplotlib.use('Agg')\n",
    "import matplotlib.pyplot as plt\n",
    "\n",
    "def plot_housing_affordability(year):\n",
    "    \"\"\"\n",
    "    Plots the average housing affordability by state for a specified year.\n",
    "\n",
    "    Parameters:\n",
    "    - year (int): The year for which to plot the housing affordability.\n",
    "\n",
    "    Returns:\n",
    "    None\n",
    "    \"\"\"\n",
    "    # Load the data from the uploaded CSV file\n",
    "    file_path = 'resources/data_interpolated.csv'\n",
    "    data = pd.read_csv(file_path)\n",
    "\n",
    "    # Filter and Aggregate the Data for the specified year\n",
    "    data_year = data[data['Year'] == year]\n",
    "    average_hai_per_state = data_year.groupby('StateName')['HAI'].mean().reset_index()\n",
    "\n",
    "    # Load the shapefile\n",
    "    shapefile_path = \"us_states_shapefile/cb_2021_us_state_20m.shp\"\n",
    "    us_states_map = gpd.read_file(shapefile_path)\n",
    "\n",
    "    # Rename columns to match the housing affordability data\n",
    "    us_states_map = us_states_map.rename(columns={'STUSPS': 'StateName'})\n",
    "\n",
    "    # Merge the Data with the Map\n",
    "    merged_map_data = us_states_map.merge(average_hai_per_state, on='StateName', how='left')\n",
    "\n",
    "    # Plot the Map\n",
    "    fig, ax = plt.subplots(1, 1, figsize=(15, 10))\n",
    "    merged_map_data.plot(column='HAI', ax=ax, legend=True, cmap='OrRd', edgecolor='black', linewidth=0.3)\n",
    "    ax.set_title(f'Average Housing Affordability by State in {year}', fontsize=15)\n",
    "    plt.axis('off')\n",
    "\n",
    "    # Save the plot directly to the static directory\n",
    "    plt.savefig('static/heatmap.png')\n",
    "    plt.close(fig)\n",
    "\n",
    "# This ensures that the script can be imported and called from elsewhere without immediately executing.\n",
    "if __name__ == '__main__':\n",
    "    # Example usage\n",
    "    plot_housing_affordability(2020)\n"
   ]
  }
 ],
 "metadata": {
  "language_info": {
   "name": "python"
  }
 },
 "nbformat": 4,
 "nbformat_minor": 2
}
