{
 "cells": [
  {
   "cell_type": "code",
   "execution_count": 3,
   "metadata": {},
   "outputs": [],
   "source": [
    "import pandas as pd\n",
    "\n",
    "def interpolate_missing_values(dataframe):\n",
    "    \"\"\"\n",
    "    Fills missing values using linear interpolation for all numerical columns in a DataFrame.\n",
    "\n",
    "    Parameters:\n",
    "    - dataframe: pd.DataFrame, the DataFrame containing the data.\n",
    "\n",
    "    Returns:\n",
    "    - A DataFrame with missing values in numerical columns filled using linear interpolation.\n",
    "    \"\"\"\n",
    "    # Making a copy of the DataFrame to avoid modifying the original data\n",
    "    interpolated_df = dataframe.copy()\n",
    "\n",
    "    # Selecting only the numerical columns for interpolation\n",
    "    numerical_columns = interpolated_df.select_dtypes(include=['number']).columns\n",
    "\n",
    "    # Applying linear interpolation to the numerical columns\n",
    "    interpolated_df[numerical_columns] = interpolated_df[numerical_columns].interpolate(method='linear', axis=1)\n",
    "\n",
    "    return interpolated_df\n",
    "\n",
    "\n",
    "file_path = 'Resources/Metro_median_sale_price_uc_sfrcondo_month.csv'\n",
    "data = pd.read_csv(file_path)\n",
    "\n",
    "# Call the function to interpolate missing values in all numerical columns\n",
    "data_interpolated = interpolate_missing_values(data)\n",
    "\n",
    "# Save the interpolated data to a new CSV file\n",
    "data_interpolated.to_csv('Resources/Metro_median_sale_price_uc_sfrcondo_month_interpolated.csv', index=False)"
   ]
  },
  {
   "cell_type": "code",
   "execution_count": 4,
   "metadata": {},
   "outputs": [],
   "source": [
    "\n",
    "file_path = 'Resources/Median_list_Price.csv'\n",
    "data = pd.read_csv(file_path)\n",
    "\n",
    "# Call the function to interpolate missing values in all numerical columns\n",
    "data_interpolated = interpolate_missing_values(data)\n",
    "\n",
    "# Save the interpolated data to a new CSV file\n",
    "data_interpolated.to_csv('Resources/Median_list_Price_interpolated.csv', index=False)"
   ]
  }
 ],
 "metadata": {
  "kernelspec": {
   "display_name": "bootcamp",
   "language": "python",
   "name": "python3"
  },
  "language_info": {
   "codemirror_mode": {
    "name": "ipython",
    "version": 3
   },
   "file_extension": ".py",
   "mimetype": "text/x-python",
   "name": "python",
   "nbconvert_exporter": "python",
   "pygments_lexer": "ipython3",
   "version": "3.11.5"
  }
 },
 "nbformat": 4,
 "nbformat_minor": 2
}
